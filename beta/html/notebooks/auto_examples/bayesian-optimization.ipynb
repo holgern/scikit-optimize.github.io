{
  "cells": [
    {
      "cell_type": "code",
      "execution_count": null,
      "metadata": {
        "collapsed": false
      },
      "outputs": [],
      "source": [
        "%matplotlib inline"
      ]
    },
    {
      "cell_type": "markdown",
      "metadata": {},
      "source": [
        "\n==================================\nBayesian optimization with `skopt`\n==================================\n\nGilles Louppe, Manoj Kumar July 2016.\nReformatted by Holger Nahrstaedt 2020\n\n.. currentmodule:: skopt\n\nProblem statement\n-----------------\n\nWe are interested in solving\n\n\\begin{align}x^* = arg \\min_x f(x)\\end{align}\n\nunder the constraints that\n\n- $f$ is a black box for which no closed form is known\n    (nor its gradients);\n- $f$ is expensive to evaluate;\n- and evaluations of $y = f(x)$ may be noisy.\n\n**Disclaimer.** If you do not have these constraints, then there\nis certainly a better optimization algorithm than Bayesian optimization.\n\n\nBayesian optimization loop\n--------------------------\n\nFor $t=1:T$:\n\n1. Given observations $(x_i, y_i=f(x_i))$ for $i=1:t$, build a\n    probabilistic model for the objective $f$. Integrate out all\n    possible true functions, using Gaussian process regression.\n\n2. optimize a cheap acquisition/utility function $u$ based on the posterior\n    distribution for sampling the next point.\n\n    .. math::\n        x_{t+1} = arg \\min_x u(x)\n\n   Exploit uncertainty to balance exploration against exploitation.\n\n3. Sample the next observation $y_{t+1}$ at $x_{t+1}$.\n\n\nAcquisition functions\n---------------------\n\nAcquisition functions $u(x)$ specify which sample $x$: should be\ntried next:\n\n- Expected improvement (default):\n    $-EI(x) = -\\mathbb{E} [f(x) - f(x_t^+)]$\n\n- Lower confidence bound: $LCB(x) = \\mu_{GP}(x) + \\kappa \\sigma_{GP}(x)$\n\n- Probability of improvement: $-PI(x) = -P(f(x) \\geq f(x_t^+) + \\kappa)$\n\nwhere $x_t^+$ is the best point observed so far.\n\nIn most cases, acquisition functions provide knobs (e.g., $\\kappa$) for\ncontrolling the exploration-exploitation trade-off.\n- Search in regions where $\\mu_{GP}(x)$ is high (exploitation)\n- Probe regions where uncertainty $\\sigma_{GP}(x)$ is high (exploration)\n"
      ]
    },
    {
      "cell_type": "code",
      "execution_count": null,
      "metadata": {
        "collapsed": false
      },
      "outputs": [],
      "source": [
        "print(__doc__)\n\nimport numpy as np\nnp.random.seed(1234)\nimport matplotlib.pyplot as plt"
      ]
    },
    {
      "cell_type": "markdown",
      "metadata": {},
      "source": [
        "Toy example\n-----------\n\nLet assume the following noisy function $f$:\n\n"
      ]
    },
    {
      "cell_type": "code",
      "execution_count": null,
      "metadata": {
        "collapsed": false
      },
      "outputs": [],
      "source": [
        "noise_level = 0.1\n\ndef f(x, noise_level=noise_level):\n    return np.sin(5 * x[0]) * (1 - np.tanh(x[0] ** 2))\\\n           + np.random.randn() * noise_level"
      ]
    },
    {
      "cell_type": "markdown",
      "metadata": {},
      "source": [
        "**Note.** In `skopt`, functions $f$ are assumed to take as input a 1D\nvector $x$: represented as an array-like and to return a scalar\n$f(x)$:.\n\n"
      ]
    },
    {
      "cell_type": "code",
      "execution_count": null,
      "metadata": {
        "collapsed": false
      },
      "outputs": [],
      "source": [
        "# Plot f(x) + contours\nx = np.linspace(-2, 2, 400).reshape(-1, 1)\nfx = [f(x_i, noise_level=0.0) for x_i in x]\nplt.plot(x, fx, \"r--\", label=\"True (unknown)\")\nplt.fill(np.concatenate([x, x[::-1]]),\n         np.concatenate(([fx_i - 1.9600 * noise_level for fx_i in fx],\n                         [fx_i + 1.9600 * noise_level for fx_i in fx[::-1]])),\n         alpha=.2, fc=\"r\", ec=\"None\")\nplt.legend()\nplt.grid()\nplt.show()"
      ]
    },
    {
      "cell_type": "markdown",
      "metadata": {},
      "source": [
        "Bayesian optimization based on gaussian process regression is implemented in\n:class:`gp_minimize` and can be carried out as follows:\n\n"
      ]
    },
    {
      "cell_type": "code",
      "execution_count": null,
      "metadata": {
        "collapsed": false
      },
      "outputs": [],
      "source": [
        "from skopt import gp_minimize\n\nres = gp_minimize(f,                  # the function to minimize\n                  [(-2.0, 2.0)],      # the bounds on each dimension of x\n                  acq_func=\"EI\",      # the acquisition function\n                  n_calls=15,         # the number of evaluations of f\n                  n_random_starts=5,  # the number of random initialization points\n                  noise=0.1**2,       # the noise level (optional)\n                  random_state=123)   # the random seed"
      ]
    },
    {
      "cell_type": "markdown",
      "metadata": {},
      "source": [
        "Accordingly, the approximated minimum is found to be:\n\n"
      ]
    },
    {
      "cell_type": "code",
      "execution_count": null,
      "metadata": {
        "collapsed": false
      },
      "outputs": [],
      "source": [
        "\"x^*=%.4f, f(x^*)=%.4f\" % (res.x[0], res.fun)"
      ]
    },
    {
      "cell_type": "markdown",
      "metadata": {},
      "source": [
        "For further inspection of the results, attributes of the `res` named tuple\nprovide the following information:\n\n- `x` [float]: location of the minimum.\n- `fun` [float]: function value at the minimum.\n- `models`: surrogate models used for each iteration.\n- `x_iters` [array]:\n   location of function evaluation for each iteration.\n- `func_vals` [array]: function value for each iteration.\n- `space` [Space]: the optimization space.\n- `specs` [dict]: parameters passed to the function.\n\n"
      ]
    },
    {
      "cell_type": "code",
      "execution_count": null,
      "metadata": {
        "collapsed": false
      },
      "outputs": [],
      "source": [
        "print(res)"
      ]
    },
    {
      "cell_type": "markdown",
      "metadata": {},
      "source": [
        "Together these attributes can be used to visually inspect the results of the\nminimization, such as the convergence trace or the acquisition function at\nthe last iteration:\n\n"
      ]
    },
    {
      "cell_type": "code",
      "execution_count": null,
      "metadata": {
        "collapsed": false
      },
      "outputs": [],
      "source": [
        "from skopt.plots import plot_convergence\nplot_convergence(res);"
      ]
    },
    {
      "cell_type": "markdown",
      "metadata": {},
      "source": [
        "Let us now visually examine\n\n1. The approximation of the fit gp model to the original function.\n2. The acquisition values that determine the next point to be queried.\n\n"
      ]
    },
    {
      "cell_type": "code",
      "execution_count": null,
      "metadata": {
        "collapsed": false
      },
      "outputs": [],
      "source": [
        "from skopt.acquisition import gaussian_ei\n\nplt.rcParams[\"figure.figsize\"] = (8, 14)\n\nx = np.linspace(-2, 2, 400).reshape(-1, 1)\nx_gp = res.space.transform(x.tolist())\nfx = np.array([f(x_i, noise_level=0.0) for x_i in x])"
      ]
    },
    {
      "cell_type": "markdown",
      "metadata": {},
      "source": [
        "Plot the 5 iterations following the 5 random points\n\n"
      ]
    },
    {
      "cell_type": "code",
      "execution_count": null,
      "metadata": {
        "collapsed": false
      },
      "outputs": [],
      "source": [
        "for n_iter in range(5):\n    gp = res.models[n_iter]\n    curr_x_iters = res.x_iters[:5+n_iter]\n    curr_func_vals = res.func_vals[:5+n_iter]\n\n    # Plot true function.\n    plt.subplot(5, 2, 2*n_iter+1)\n    plt.plot(x, fx, \"r--\", label=\"True (unknown)\")\n    plt.fill(np.concatenate([x, x[::-1]]),\n             np.concatenate([fx - 1.9600 * noise_level,\n                             fx[::-1] + 1.9600 * noise_level]),\n             alpha=.2, fc=\"r\", ec=\"None\")\n\n    # Plot GP(x) + contours\n    y_pred, sigma = gp.predict(x_gp, return_std=True)\n    plt.plot(x, y_pred, \"g--\", label=r\"$\\mu_{GP}(x)$\")\n    plt.fill(np.concatenate([x, x[::-1]]),\n             np.concatenate([y_pred - 1.9600 * sigma,\n                             (y_pred + 1.9600 * sigma)[::-1]]),\n             alpha=.2, fc=\"g\", ec=\"None\")\n\n    # Plot sampled points\n    plt.plot(curr_x_iters, curr_func_vals,\n             \"r.\", markersize=8, label=\"Observations\")\n\n    # Adjust plot layout\n    plt.grid()\n\n    if n_iter == 0:\n        plt.legend(loc=\"best\", prop={'size': 6}, numpoints=1)\n\n    if n_iter != 4:\n        plt.tick_params(axis='x', which='both', bottom='off',\n                        top='off', labelbottom='off')\n\n    # Plot EI(x)\n    plt.subplot(5, 2, 2*n_iter+2)\n    acq = gaussian_ei(x_gp, gp, y_opt=np.min(curr_func_vals))\n    plt.plot(x, acq, \"b\", label=\"EI(x)\")\n    plt.fill_between(x.ravel(), -2.0, acq.ravel(), alpha=0.3, color='blue')\n\n    next_x = res.x_iters[5+n_iter]\n    next_acq = gaussian_ei(res.space.transform([next_x]), gp,\n                           y_opt=np.min(curr_func_vals))\n    plt.plot(next_x, next_acq, \"bo\", markersize=6, label=\"Next query point\")\n\n    # Adjust plot layout\n    plt.ylim(0, 0.1)\n    plt.grid()\n\n    if n_iter == 0:\n        plt.legend(loc=\"best\", prop={'size': 6}, numpoints=1)\n\n    if n_iter != 4:\n        plt.tick_params(axis='x', which='both', bottom='off',\n                        top='off', labelbottom='off')\n\nplt.show()"
      ]
    },
    {
      "cell_type": "markdown",
      "metadata": {},
      "source": [
        "The first column shows the following:\n\n1. The true function.\n2. The approximation to the original function by the gaussian process model\n3. How sure the GP is about the function.\n\nThe second column shows the acquisition function values after every\nsurrogate model is fit. It is possible that we do not choose the global\nminimum but a local minimum depending on the minimizer used to minimize\nthe acquisition function.\n\nAt the points closer to the points previously evaluated at, the variance\ndips to zero.\n\nFinally, as we increase the number of points, the GP model approaches\nthe actual function. The final few points are clustered around the minimum\nbecause the GP does not gain anything more by further exploration:\n\n"
      ]
    },
    {
      "cell_type": "code",
      "execution_count": null,
      "metadata": {
        "collapsed": false
      },
      "outputs": [],
      "source": [
        "plt.rcParams[\"figure.figsize\"] = (6, 4)\n\n# Plot f(x) + contours\nx = np.linspace(-2, 2, 400).reshape(-1, 1)\nx_gp = res.space.transform(x.tolist())\n\nfx = [f(x_i, noise_level=0.0) for x_i in x]\nplt.plot(x, fx, \"r--\", label=\"True (unknown)\")\nplt.fill(np.concatenate([x, x[::-1]]),\n         np.concatenate(([fx_i - 1.9600 * noise_level for fx_i in fx],\n                         [fx_i + 1.9600 * noise_level for fx_i in fx[::-1]])),\n         alpha=.2, fc=\"r\", ec=\"None\")\n\n# Plot GP(x) + contours\ngp = res.models[-1]\ny_pred, sigma = gp.predict(x_gp, return_std=True)\n\nplt.plot(x, y_pred, \"g--\", label=r\"$\\mu_{GP}(x)$\")\nplt.fill(np.concatenate([x, x[::-1]]),\n         np.concatenate([y_pred - 1.9600 * sigma,\n                         (y_pred + 1.9600 * sigma)[::-1]]),\n         alpha=.2, fc=\"g\", ec=\"None\")\n\n# Plot sampled points\nplt.plot(res.x_iters,\n         res.func_vals,\n         \"r.\", markersize=15, label=\"Observations\")\n\nplt.title(r\"$x^* = %.4f, f(x^*) = %.4f$\" % (res.x[0], res.fun))\nplt.legend(loc=\"best\", prop={'size': 8}, numpoints=1)\nplt.grid()\n\nplt.show()"
      ]
    }
  ],
  "metadata": {
    "kernelspec": {
      "display_name": "Python 3",
      "language": "python",
      "name": "python3"
    },
    "language_info": {
      "codemirror_mode": {
        "name": "ipython",
        "version": 3
      },
      "file_extension": ".py",
      "mimetype": "text/x-python",
      "name": "python",
      "nbconvert_exporter": "python",
      "pygments_lexer": "ipython3",
      "version": "3.7.6"
    }
  },
  "nbformat": 4,
  "nbformat_minor": 0
}