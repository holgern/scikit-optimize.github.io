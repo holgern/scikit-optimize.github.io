{
  "cells": [
    {
      "cell_type": "code",
      "execution_count": null,
      "metadata": {
        "collapsed": false
      },
      "outputs": [],
      "source": [
        "%matplotlib inline"
      ]
    },
    {
      "cell_type": "markdown",
      "metadata": {},
      "source": [
        "\n# Exploration vs exploitation\n\n\nSigurd Carlen, September 2019.\nReformatted by Holger Nahrstaedt 2020\n\n.. currentmodule:: skopt\n\n\nWe can control how much the acqusition function favors exploration and\nexploitation by tweaking the two parameters kappa and xi. Higher values\nmeans more exploration and less exploitation and vice versa with low values.\n\nkappa is only used if acq_func is set to \"LCB\". xi is used when acq_func is\n\"EI\" or \"PI\". By default the acqusition function is set to \"gp_hedge\" which\nchooses the best of these three. Therefore I recommend not using gp_hedge\nwhen tweaking exploration/exploitation, but instead choosing \"LCB\",\n\"EI\" or \"PI.\n\nThe way to pass kappa and xi to the optimizer is to use the named argument\n\"acq_func_kwargs\". This is a dict of extra arguments for the aqcuisittion\nfunction.\n\nIf you want opt.ask() to give a new acquisition value imdediatly after\ntweaking kappa or xi call opt.update_next(). This ensures that the next\nvalue is updated with the new acquisition parameters.\n"
      ]
    },
    {
      "cell_type": "code",
      "execution_count": null,
      "metadata": {
        "collapsed": false
      },
      "outputs": [],
      "source": [
        "print(__doc__)\n\nimport numpy as np\nnp.random.seed(1234)\nimport matplotlib.pyplot as plt"
      ]
    },
    {
      "cell_type": "markdown",
      "metadata": {},
      "source": [
        "Toy example\n-----------\nFirst we define our objective like in the ask-and-tell example notebook and\ndefine a plotting function. We do however only use on initial random point.\nAll points afterthe first one is therefore choosen by the acquisition\nfunction.\n\n"
      ]
    },
    {
      "cell_type": "code",
      "execution_count": null,
      "metadata": {
        "collapsed": false
      },
      "outputs": [],
      "source": [
        "from skopt.learning import ExtraTreesRegressor\nfrom skopt import Optimizer\n\nnoise_level = 0.1\n\n# Our 1D toy problem, this is the function we are trying to\n# minimize\ndef objective(x, noise_level=noise_level):\n    return np.sin(5 * x[0]) * (1 - np.tanh(x[0] ** 2)) +\\\n           np.random.randn() * noise_level"
      ]
    },
    {
      "cell_type": "code",
      "execution_count": null,
      "metadata": {
        "collapsed": false
      },
      "outputs": [],
      "source": [
        "opt = Optimizer([(-2.0, 2.0)], \"GP\", n_initial_points = 1,\n                acq_optimizer=\"sampling\")"
      ]
    },
    {
      "cell_type": "code",
      "execution_count": null,
      "metadata": {
        "collapsed": false
      },
      "outputs": [],
      "source": [
        "x = np.linspace(-2, 2, 400).reshape(-1, 1)\nfx = np.array([objective(x_i, noise_level=0.0) for x_i in x])"
      ]
    },
    {
      "cell_type": "code",
      "execution_count": null,
      "metadata": {
        "collapsed": false
      },
      "outputs": [],
      "source": [
        "from skopt.acquisition import gaussian_ei\ndef plot_optimizer(opt, x, fx):\n    model = opt.models[-1]\n    x_model = opt.space.transform(x.tolist())\n\n    # Plot true function.\n    plt.plot(x, fx, \"r--\", label=\"True (unknown)\")\n    plt.fill(np.concatenate([x, x[::-1]]),\n             np.concatenate([fx - 1.9600 * noise_level,\n                             fx[::-1] + 1.9600 * noise_level]),\n             alpha=.2, fc=\"r\", ec=\"None\")\n\n    # Plot Model(x) + contours\n    y_pred, sigma = model.predict(x_model, return_std=True)\n    plt.plot(x, y_pred, \"g--\", label=r\"$\\mu(x)$\")\n    plt.fill(np.concatenate([x, x[::-1]]),\n             np.concatenate([y_pred - 1.9600 * sigma,\n                             (y_pred + 1.9600 * sigma)[::-1]]),\n             alpha=.2, fc=\"g\", ec=\"None\")\n\n    # Plot sampled points\n    plt.plot(opt.Xi, opt.yi,\n             \"r.\", markersize=8, label=\"Observations\")\n\n    acq = gaussian_ei(x_model, model, y_opt=np.min(opt.yi))\n    # shift down to make a better plot\n    acq = 4 * acq - 2\n    plt.plot(x, acq, \"b\", label=\"EI(x)\")\n    plt.fill_between(x.ravel(), -2.0, acq.ravel(), alpha=0.3, color='blue')\n\n    # Adjust plot layout\n    plt.grid()\n    plt.legend(loc='best')"
      ]
    },
    {
      "cell_type": "markdown",
      "metadata": {},
      "source": [
        "We run a an optimization loop with standard settings\n\n"
      ]
    },
    {
      "cell_type": "code",
      "execution_count": null,
      "metadata": {
        "collapsed": false
      },
      "outputs": [],
      "source": [
        "for i in range(30):\n    next_x = opt.ask()\n    f_val = objective(next_x)\n    opt.tell(next_x, f_val)\n# The same output could be created with opt.run(objective, n_iter=30)\nplot_optimizer(opt, x, fx)"
      ]
    },
    {
      "cell_type": "markdown",
      "metadata": {},
      "source": [
        "We see that some minima is found and \"exploited\"\n\nNow lets try to set kappa and xi using'to other values and\npass it to the optimizer:\n\n"
      ]
    },
    {
      "cell_type": "code",
      "execution_count": null,
      "metadata": {
        "collapsed": false
      },
      "outputs": [],
      "source": [
        "acq_func_kwargs = {\"xi\": 10000, \"kappa\": 10000}"
      ]
    },
    {
      "cell_type": "code",
      "execution_count": null,
      "metadata": {
        "collapsed": false
      },
      "outputs": [],
      "source": [
        "opt = Optimizer([(-2.0, 2.0)], \"GP\", n_initial_points=1,\n                acq_optimizer=\"sampling\",\n                acq_func_kwargs=acq_func_kwargs)"
      ]
    },
    {
      "cell_type": "code",
      "execution_count": null,
      "metadata": {
        "collapsed": false
      },
      "outputs": [],
      "source": [
        "opt.run(objective, n_iter=20)\nplot_optimizer(opt, x, fx)"
      ]
    },
    {
      "cell_type": "markdown",
      "metadata": {},
      "source": [
        "We see that the points are more random now.\n\nThis works both for kappa when using acq_func=\"LCB\":\n\n"
      ]
    },
    {
      "cell_type": "code",
      "execution_count": null,
      "metadata": {
        "collapsed": false
      },
      "outputs": [],
      "source": [
        "opt = Optimizer([(-2.0, 2.0)], \"GP\", n_initial_points=1,\n                acq_func=\"LCB\", acq_optimizer=\"sampling\",\n                acq_func_kwargs=acq_func_kwargs)"
      ]
    },
    {
      "cell_type": "code",
      "execution_count": null,
      "metadata": {
        "collapsed": false
      },
      "outputs": [],
      "source": [
        "opt.run(objective, n_iter=20)\nplot_optimizer(opt, x, fx)"
      ]
    },
    {
      "cell_type": "markdown",
      "metadata": {},
      "source": [
        "And for xi when using acq_func=\"EI\": or acq_func=\"PI\":\n\n"
      ]
    },
    {
      "cell_type": "code",
      "execution_count": null,
      "metadata": {
        "collapsed": false
      },
      "outputs": [],
      "source": [
        "opt = Optimizer([(-2.0, 2.0)], \"GP\", n_initial_points=1,\n                acq_func=\"PI\", acq_optimizer=\"sampling\",\n                acq_func_kwargs=acq_func_kwargs)"
      ]
    },
    {
      "cell_type": "code",
      "execution_count": null,
      "metadata": {
        "collapsed": false
      },
      "outputs": [],
      "source": [
        "opt.run(objective, n_iter=20)\nplot_optimizer(opt, x, fx)"
      ]
    },
    {
      "cell_type": "markdown",
      "metadata": {},
      "source": [
        "We can also favor exploitaton:\n\n"
      ]
    },
    {
      "cell_type": "code",
      "execution_count": null,
      "metadata": {
        "collapsed": false
      },
      "outputs": [],
      "source": [
        "acq_func_kwargs = {\"xi\": 0.000001, \"kappa\": 0.001}"
      ]
    },
    {
      "cell_type": "code",
      "execution_count": null,
      "metadata": {
        "collapsed": false
      },
      "outputs": [],
      "source": [
        "opt = Optimizer([(-2.0, 2.0)], \"GP\", n_initial_points=1,\n                acq_func=\"LCB\", acq_optimizer=\"sampling\",\n                acq_func_kwargs=acq_func_kwargs)"
      ]
    },
    {
      "cell_type": "code",
      "execution_count": null,
      "metadata": {
        "collapsed": false
      },
      "outputs": [],
      "source": [
        "opt.run(objective, n_iter=20)\nplot_optimizer(opt, x, fx)"
      ]
    },
    {
      "cell_type": "code",
      "execution_count": null,
      "metadata": {
        "collapsed": false
      },
      "outputs": [],
      "source": [
        "opt = Optimizer([(-2.0, 2.0)], \"GP\", n_initial_points=1,\n                acq_func=\"EI\", acq_optimizer=\"sampling\",\n                acq_func_kwargs=acq_func_kwargs)"
      ]
    },
    {
      "cell_type": "code",
      "execution_count": null,
      "metadata": {
        "collapsed": false
      },
      "outputs": [],
      "source": [
        "opt.run(objective, n_iter=20)\nplot_optimizer(opt, x, fx)"
      ]
    },
    {
      "cell_type": "code",
      "execution_count": null,
      "metadata": {
        "collapsed": false
      },
      "outputs": [],
      "source": [
        "opt = Optimizer([(-2.0, 2.0)], \"GP\", n_initial_points=1,\n                acq_func=\"PI\", acq_optimizer=\"sampling\",\n                acq_func_kwargs=acq_func_kwargs)"
      ]
    },
    {
      "cell_type": "code",
      "execution_count": null,
      "metadata": {
        "collapsed": false
      },
      "outputs": [],
      "source": [
        "opt.run(objective, n_iter=20)\nplot_optimizer(opt, x, fx)"
      ]
    },
    {
      "cell_type": "markdown",
      "metadata": {},
      "source": [
        "Note that negative values does not work with the \"PI\"-acquisition function\nbut works with \"EI\":\n\n"
      ]
    },
    {
      "cell_type": "code",
      "execution_count": null,
      "metadata": {
        "collapsed": false
      },
      "outputs": [],
      "source": [
        "acq_func_kwargs = {\"xi\": -1000000000000}"
      ]
    },
    {
      "cell_type": "code",
      "execution_count": null,
      "metadata": {
        "collapsed": false
      },
      "outputs": [],
      "source": [
        "opt = Optimizer([(-2.0, 2.0)], \"GP\", n_initial_points=1,\n                acq_func=\"PI\", acq_optimizer=\"sampling\",\n                acq_func_kwargs=acq_func_kwargs)"
      ]
    },
    {
      "cell_type": "code",
      "execution_count": null,
      "metadata": {
        "collapsed": false
      },
      "outputs": [],
      "source": [
        "opt.run(objective, n_iter=20)\nplot_optimizer(opt, x, fx)"
      ]
    },
    {
      "cell_type": "code",
      "execution_count": null,
      "metadata": {
        "collapsed": false
      },
      "outputs": [],
      "source": [
        "opt = Optimizer([(-2.0, 2.0)], \"GP\", n_initial_points=1,\n                acq_func=\"EI\", acq_optimizer=\"sampling\",\n                acq_func_kwargs=acq_func_kwargs)"
      ]
    },
    {
      "cell_type": "code",
      "execution_count": null,
      "metadata": {
        "collapsed": false
      },
      "outputs": [],
      "source": [
        "opt.run(objective, n_iter=20)\nplot_optimizer(opt, x, fx)"
      ]
    },
    {
      "cell_type": "markdown",
      "metadata": {},
      "source": [
        "Changing kappa and xi on the go\n-------------------------------\nIf we want to change kappa or ki at any point during our optimization\nprocess we just replace opt.acq_func_kwargs. Remember to call\n`opt.update_next()` after the change, in order for next point to be\nrecalculated.\n\n"
      ]
    },
    {
      "cell_type": "code",
      "execution_count": null,
      "metadata": {
        "collapsed": false
      },
      "outputs": [],
      "source": [
        "acq_func_kwargs = {\"kappa\": 0}"
      ]
    },
    {
      "cell_type": "code",
      "execution_count": null,
      "metadata": {
        "collapsed": false
      },
      "outputs": [],
      "source": [
        "opt = Optimizer([(-2.0, 2.0)], \"GP\", n_initial_points=1,\n                acq_func=\"LCB\", acq_optimizer=\"sampling\",\n                acq_func_kwargs=acq_func_kwargs)"
      ]
    },
    {
      "cell_type": "code",
      "execution_count": null,
      "metadata": {
        "collapsed": false
      },
      "outputs": [],
      "source": [
        "opt.acq_func_kwargs"
      ]
    },
    {
      "cell_type": "code",
      "execution_count": null,
      "metadata": {
        "collapsed": false
      },
      "outputs": [],
      "source": [
        "opt.run(objective, n_iter=20)\nplot_optimizer(opt, x, fx)"
      ]
    },
    {
      "cell_type": "code",
      "execution_count": null,
      "metadata": {
        "collapsed": false
      },
      "outputs": [],
      "source": [
        "acq_func_kwargs = {\"kappa\": 100000}"
      ]
    },
    {
      "cell_type": "code",
      "execution_count": null,
      "metadata": {
        "collapsed": false
      },
      "outputs": [],
      "source": [
        "opt.acq_func_kwargs = acq_func_kwargs\nopt.update_next()"
      ]
    },
    {
      "cell_type": "code",
      "execution_count": null,
      "metadata": {
        "collapsed": false
      },
      "outputs": [],
      "source": [
        "opt.run(objective, n_iter=20)\nplot_optimizer(opt, x, fx)"
      ]
    }
  ],
  "metadata": {
    "kernelspec": {
      "display_name": "Python 3",
      "language": "python",
      "name": "python3"
    },
    "language_info": {
      "codemirror_mode": {
        "name": "ipython",
        "version": 3
      },
      "file_extension": ".py",
      "mimetype": "text/x-python",
      "name": "python",
      "nbconvert_exporter": "python",
      "pygments_lexer": "ipython3",
      "version": "3.8.1"
    }
  },
  "nbformat": 4,
  "nbformat_minor": 0
}